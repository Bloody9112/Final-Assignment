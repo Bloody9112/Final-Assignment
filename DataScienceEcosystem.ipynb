{
 "cells": [
  {
   "cell_type": "markdown",
   "id": "a53a80a8-67d6-4d42-b585-3e90ad3b1c17",
   "metadata": {},
   "source": [
    "# Data Science Tools and Ecosystem"
   ]
  },
  {
   "cell_type": "markdown",
   "id": "8d8d9115-26de-4a67-8238-7a97840520e4",
   "metadata": {},
   "source": [
    "In this notebook, Data Science Tools and Ecosystem are summarized."
   ]
  },
  {
   "cell_type": "markdown",
   "id": "3eed81b7-c0e7-4141-9b07-e74f29e0a794",
   "metadata": {},
   "source": [
    "**Objectives:**\n",
    "\n",
    "- List popular languages for Data Science.\n",
    "- Identify the key libraries used in Data Science.\n",
    "- Explain the roles of Data Scientists.\n",
    "- Discuss the applications of Data Science in real-world scenarios."
   ]
  },
  {
   "cell_type": "markdown",
   "id": "46115de9-a938-4da7-97cf-84ae53f9872f",
   "metadata": {},
   "source": [
    "Some of the popular languages that Data Scientists use are:\n",
    "1. Python\n",
    "2. R\n",
    "3. SQL"
   ]
  },
  {
   "cell_type": "markdown",
   "id": "f5999463-baf7-44e9-a810-4123e242910d",
   "metadata": {},
   "source": [
    "Some of the commonly used libraries used by Data Scientists include:\n",
    "1. dplyr\n",
    "2. stringr\n",
    "3. ggplot\n",
    "4. caret"
   ]
  },
  {
   "cell_type": "markdown",
   "id": "ea52f26e-e5d4-4d96-b82a-a0e75f3c0481",
   "metadata": {},
   "source": [
    "| Data Science Tools |\n",
    "| -------------|\n",
    "| Jupyter Notebook |\n",
    "| RStudio |\n",
    "| VS Code |"
   ]
  },
  {
   "cell_type": "markdown",
   "id": "924e6165-7473-4b7a-820e-11b0ebf4ed56",
   "metadata": {},
   "source": [
    "### Below are a few examples of evaluating arithmetic expressions in Python.\n",
    "\n"
   ]
  },
  {
   "cell_type": "code",
   "execution_count": 24,
   "id": "0ff2a6d7-e72b-45d4-a1d5-cb5f55422317",
   "metadata": {},
   "outputs": [
    {
     "data": {
      "text/plain": [
       "17"
      ]
     },
     "execution_count": 24,
     "metadata": {},
     "output_type": "execute_result"
    }
   ],
   "source": [
    "(3*4)+5\n",
    "# This a simple arithmetic expression to multiply and then add an integer"
   ]
  },
  {
   "cell_type": "code",
   "execution_count": 30,
   "id": "f3c284fd-a9cb-4af8-aff3-e7798078016b",
   "metadata": {},
   "outputs": [
    {
     "name": "stdout",
     "output_type": "stream",
     "text": [
      "3.3333333333333335\n"
     ]
    }
   ],
   "source": [
    "# This will convert 200 minutes to hours by diving by 60\n",
    "\n",
    "minutes = 200\n",
    "hours = minutes / 60\n",
    "print(f\"{hours}\")"
   ]
  },
  {
   "cell_type": "markdown",
   "id": "ae92c603-8881-432e-b722-2e62b509c31b",
   "metadata": {},
   "source": [
    "## Author \n",
    "Ilya P."
   ]
  }
 ],
 "metadata": {
  "kernelspec": {
   "display_name": "Python [conda env:base] *",
   "language": "python",
   "name": "conda-base-py"
  },
  "language_info": {
   "codemirror_mode": {
    "name": "ipython",
    "version": 3
   },
   "file_extension": ".py",
   "mimetype": "text/x-python",
   "name": "python",
   "nbconvert_exporter": "python",
   "pygments_lexer": "ipython3",
   "version": "3.12.7"
  }
 },
 "nbformat": 4,
 "nbformat_minor": 5
}
